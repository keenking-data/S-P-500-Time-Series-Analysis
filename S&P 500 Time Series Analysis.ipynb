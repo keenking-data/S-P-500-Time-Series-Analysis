{
 "cells": [
  {
   "cell_type": "code",
   "execution_count": 1,
   "id": "8a2b2946-c60a-42ee-b41e-b571252ca7c4",
   "metadata": {},
   "outputs": [
    {
     "name": "stdout",
     "output_type": "stream",
     "text": [
      "\n",
      "S&P 500 Time Series Analysis\n",
      " In this notebook, its a  comprehensive exploratory data analysis (EDA) and time series modeling on the S&P 500 index over the last 25 years using Python. with the use yfinance to fetch real financial data, conduct visualizations with plotly and seaborn, apply statistical tests, and build a simple regression model for forecasting.\n"
     ]
    }
   ],
   "source": [
    "print(\"\\nS&P 500 Time Series Analysis\")\n",
    "print(\" In this notebook, its a  comprehensive exploratory data analysis (EDA) and time series modeling on the S&P 500 index over the last 25 years using Python. with the use yfinance to fetch real financial data, conduct visualizations with plotly and seaborn, apply statistical tests, and build a simple regression model for forecasting.\")"
   ]
  },
  {
   "cell_type": "code",
   "execution_count": 2,
   "id": "fc772fdc-5e30-450b-a07f-4a6204031b57",
   "metadata": {},
   "outputs": [
    {
     "name": "stdout",
     "output_type": "stream",
     "text": [
      "Requirement already satisfied: yfinance in c:\\users\\user\\anaconda3\\lib\\site-packages (0.2.38)\n",
      "Requirement already satisfied: plotly in c:\\users\\user\\anaconda3\\lib\\site-packages (5.24.1)\n",
      "Requirement already satisfied: seaborn in c:\\users\\user\\anaconda3\\lib\\site-packages (0.13.2)\n",
      "Requirement already satisfied: scikit-learn in c:\\users\\user\\anaconda3\\lib\\site-packages (1.5.1)\n",
      "Requirement already satisfied: statsmodels in c:\\users\\user\\anaconda3\\lib\\site-packages (0.14.2)\n",
      "Requirement already satisfied: pandas>=1.3.0 in c:\\users\\user\\anaconda3\\lib\\site-packages (from yfinance) (2.3.1)\n",
      "Requirement already satisfied: numpy>=1.16.5 in c:\\users\\user\\anaconda3\\lib\\site-packages (from yfinance) (1.26.4)\n",
      "Requirement already satisfied: requests>=2.31 in c:\\users\\user\\anaconda3\\lib\\site-packages (from yfinance) (2.32.3)\n",
      "Requirement already satisfied: multitasking>=0.0.7 in c:\\users\\user\\anaconda3\\lib\\site-packages (from yfinance) (0.0.12)\n",
      "Requirement already satisfied: lxml>=4.9.1 in c:\\users\\user\\anaconda3\\lib\\site-packages (from yfinance) (5.2.1)\n",
      "Requirement already satisfied: appdirs>=1.4.4 in c:\\users\\user\\anaconda3\\lib\\site-packages (from yfinance) (1.4.4)\n",
      "Requirement already satisfied: pytz>=2022.5 in c:\\users\\user\\anaconda3\\lib\\site-packages (from yfinance) (2024.1)\n",
      "Requirement already satisfied: frozendict>=2.3.4 in c:\\users\\user\\anaconda3\\lib\\site-packages (from yfinance) (2.4.2)\n",
      "Requirement already satisfied: peewee>=3.16.2 in c:\\users\\user\\anaconda3\\lib\\site-packages (from yfinance) (3.18.2)\n",
      "Requirement already satisfied: beautifulsoup4>=4.11.1 in c:\\users\\user\\anaconda3\\lib\\site-packages (from yfinance) (4.12.3)\n",
      "Requirement already satisfied: html5lib>=1.1 in c:\\users\\user\\anaconda3\\lib\\site-packages (from yfinance) (1.1)\n",
      "Requirement already satisfied: tenacity>=6.2.0 in c:\\users\\user\\anaconda3\\lib\\site-packages (from plotly) (8.2.3)\n",
      "Requirement already satisfied: packaging in c:\\users\\user\\anaconda3\\lib\\site-packages (from plotly) (24.1)\n",
      "Requirement already satisfied: matplotlib!=3.6.1,>=3.4 in c:\\users\\user\\anaconda3\\lib\\site-packages (from seaborn) (3.9.2)\n",
      "Requirement already satisfied: scipy>=1.6.0 in c:\\users\\user\\anaconda3\\lib\\site-packages (from scikit-learn) (1.13.1)\n",
      "Requirement already satisfied: joblib>=1.2.0 in c:\\users\\user\\anaconda3\\lib\\site-packages (from scikit-learn) (1.4.2)\n",
      "Requirement already satisfied: threadpoolctl>=3.1.0 in c:\\users\\user\\anaconda3\\lib\\site-packages (from scikit-learn) (3.5.0)\n",
      "Requirement already satisfied: patsy>=0.5.6 in c:\\users\\user\\anaconda3\\lib\\site-packages (from statsmodels) (0.5.6)\n",
      "Requirement already satisfied: soupsieve>1.2 in c:\\users\\user\\anaconda3\\lib\\site-packages (from beautifulsoup4>=4.11.1->yfinance) (2.5)\n",
      "Requirement already satisfied: six>=1.9 in c:\\users\\user\\anaconda3\\lib\\site-packages (from html5lib>=1.1->yfinance) (1.16.0)\n",
      "Requirement already satisfied: webencodings in c:\\users\\user\\anaconda3\\lib\\site-packages (from html5lib>=1.1->yfinance) (0.5.1)\n",
      "Requirement already satisfied: contourpy>=1.0.1 in c:\\users\\user\\anaconda3\\lib\\site-packages (from matplotlib!=3.6.1,>=3.4->seaborn) (1.2.0)\n",
      "Requirement already satisfied: cycler>=0.10 in c:\\users\\user\\anaconda3\\lib\\site-packages (from matplotlib!=3.6.1,>=3.4->seaborn) (0.11.0)\n",
      "Requirement already satisfied: fonttools>=4.22.0 in c:\\users\\user\\anaconda3\\lib\\site-packages (from matplotlib!=3.6.1,>=3.4->seaborn) (4.51.0)\n",
      "Requirement already satisfied: kiwisolver>=1.3.1 in c:\\users\\user\\anaconda3\\lib\\site-packages (from matplotlib!=3.6.1,>=3.4->seaborn) (1.4.4)\n",
      "Requirement already satisfied: pillow>=8 in c:\\users\\user\\anaconda3\\lib\\site-packages (from matplotlib!=3.6.1,>=3.4->seaborn) (10.4.0)\n",
      "Requirement already satisfied: pyparsing>=2.3.1 in c:\\users\\user\\anaconda3\\lib\\site-packages (from matplotlib!=3.6.1,>=3.4->seaborn) (3.1.2)\n",
      "Requirement already satisfied: python-dateutil>=2.7 in c:\\users\\user\\anaconda3\\lib\\site-packages (from matplotlib!=3.6.1,>=3.4->seaborn) (2.9.0.post0)\n",
      "Requirement already satisfied: tzdata>=2022.7 in c:\\users\\user\\anaconda3\\lib\\site-packages (from pandas>=1.3.0->yfinance) (2023.3)\n",
      "Requirement already satisfied: charset-normalizer<4,>=2 in c:\\users\\user\\anaconda3\\lib\\site-packages (from requests>=2.31->yfinance) (3.3.2)\n",
      "Requirement already satisfied: idna<4,>=2.5 in c:\\users\\user\\anaconda3\\lib\\site-packages (from requests>=2.31->yfinance) (3.7)\n",
      "Requirement already satisfied: urllib3<3,>=1.21.1 in c:\\users\\user\\anaconda3\\lib\\site-packages (from requests>=2.31->yfinance) (2.2.3)\n",
      "Requirement already satisfied: certifi>=2017.4.17 in c:\\users\\user\\anaconda3\\lib\\site-packages (from requests>=2.31->yfinance) (2025.8.3)\n"
     ]
    }
   ],
   "source": [
    "!pip install yfinance plotly seaborn scikit-learn statsmodels"
   ]
  },
  {
   "cell_type": "code",
   "execution_count": 3,
   "id": "78873709-d167-40d7-8504-39e84c48e6b5",
   "metadata": {},
   "outputs": [
    {
     "data": {
      "text/html": [
       "        <script type=\"text/javascript\">\n",
       "        window.PlotlyConfig = {MathJaxConfig: 'local'};\n",
       "        if (window.MathJax && window.MathJax.Hub && window.MathJax.Hub.Config) {window.MathJax.Hub.Config({SVG: {font: \"STIX-Web\"}});}\n",
       "        if (typeof require !== 'undefined') {\n",
       "        require.undef(\"plotly\");\n",
       "        requirejs.config({\n",
       "            paths: {\n",
       "                'plotly': ['https://cdn.plot.ly/plotly-2.35.2.min']\n",
       "            }\n",
       "        });\n",
       "        require(['plotly'], function(Plotly) {\n",
       "            window._Plotly = Plotly;\n",
       "        });\n",
       "        }\n",
       "        </script>\n",
       "        "
      ]
     },
     "metadata": {},
     "output_type": "display_data"
    }
   ],
   "source": [
    "# importing libraries and modules for use \n",
    "import yfinance as yf\n",
    "import pandas as pd\n",
    "import numpy as np\n",
    "import matplotlib.pyplot as plt\n",
    "import seaborn as sns\n",
    "import plotly.graph_objs as go\n",
    "from plotly.offline import init_notebook_mode\n",
    "init_notebook_mode(connected=True)\n",
    "\n",
    "from statsmodels.tsa.stattools import adfuller, acf, pacf\n",
    "from statsmodels.graphics.tsaplots import plot_acf, plot_pacf\n",
    "from statsmodels.tsa.seasonal import seasonal_decompose\n",
    "from sklearn.linear_model import LinearRegression\n",
    "from sklearn.metrics import mean_squared_error, r2_score\n",
    "from sklearn.preprocessing import StandardScaler\n",
    "import warnings\n",
    "warnings.filterwarnings(\"ignore\")\n",
    "\n",
    "plt.style.use('seaborn-v0_8')\n",
    "sns.set_palette(\"Set2\")"
   ]
  },
  {
   "cell_type": "code",
   "execution_count": 4,
   "id": "0634681e-666f-4ed8-8eb8-72e11d0fb06b",
   "metadata": {},
   "outputs": [
    {
     "name": "stdout",
     "output_type": "stream",
     "text": [
      "=== Data Info ===\n"
     ]
    },
    {
     "ename": "NameError",
     "evalue": "name 'sp500' is not defined",
     "output_type": "error",
     "traceback": [
      "\u001b[1;31m---------------------------------------------------------------------------\u001b[0m",
      "\u001b[1;31mNameError\u001b[0m                                 Traceback (most recent call last)",
      "Cell \u001b[1;32mIn[4], line 4\u001b[0m\n\u001b[0;32m      1\u001b[0m \u001b[38;5;66;03m#  Exploratory Data Analysis (EDA)\u001b[39;00m\n\u001b[0;32m      2\u001b[0m \u001b[38;5;66;03m# overall overviews\u001b[39;00m\n\u001b[0;32m      3\u001b[0m \u001b[38;5;28mprint\u001b[39m(\u001b[38;5;124m\"\u001b[39m\u001b[38;5;124m=== Data Info ===\u001b[39m\u001b[38;5;124m\"\u001b[39m)\n\u001b[1;32m----> 4\u001b[0m \u001b[38;5;28mprint\u001b[39m(sp500\u001b[38;5;241m.\u001b[39minfo())\n\u001b[0;32m      5\u001b[0m \u001b[38;5;28mprint\u001b[39m(\u001b[38;5;124m\"\u001b[39m\u001b[38;5;130;01m\\n\u001b[39;00m\u001b[38;5;124m=== Missing Values ===\u001b[39m\u001b[38;5;124m\"\u001b[39m)\n\u001b[0;32m      6\u001b[0m \u001b[38;5;28mprint\u001b[39m(sp500\u001b[38;5;241m.\u001b[39misnull()\u001b[38;5;241m.\u001b[39msum())\n",
      "\u001b[1;31mNameError\u001b[0m: name 'sp500' is not defined"
     ]
    }
   ],
   "source": [
    "#  Exploratory Data Analysis (EDA)\n",
    "# overall overviews\n",
    "print(\"=== Data Info ===\")\n",
    "print(sp500.info())\n",
    "print(\"\\n=== Missing Values ===\")\n",
    "print(sp500.isnull().sum())"
   ]
  },
  {
   "cell_type": "code",
   "execution_count": 7,
   "id": "298bcc39-17bc-4b52-a6ae-e6778570eaf6",
   "metadata": {},
   "outputs": [
    {
     "ename": "NameError",
     "evalue": "name 'sp500' is not defined",
     "output_type": "error",
     "traceback": [
      "\u001b[1;31m---------------------------------------------------------------------------\u001b[0m",
      "\u001b[1;31mNameError\u001b[0m                                 Traceback (most recent call last)",
      "Cell \u001b[1;32mIn[7], line 2\u001b[0m\n\u001b[0;32m      1\u001b[0m \u001b[38;5;66;03m# summary statistics\u001b[39;00m\n\u001b[1;32m----> 2\u001b[0m sp500\u001b[38;5;241m.\u001b[39mdescribe()\n",
      "\u001b[1;31mNameError\u001b[0m: name 'sp500' is not defined"
     ]
    }
   ],
   "source": [
    "# summary statistics\n",
    "sp500.describe()"
   ]
  },
  {
   "cell_type": "code",
   "execution_count": 6,
   "id": "04982003-cd0c-4e69-8b5d-58d4812d1355",
   "metadata": {},
   "outputs": [
    {
     "ename": "NameError",
     "evalue": "name 'px' is not defined",
     "output_type": "error",
     "traceback": [
      "\u001b[1;31m---------------------------------------------------------------------------\u001b[0m",
      "\u001b[1;31mNameError\u001b[0m                                 Traceback (most recent call last)",
      "Cell \u001b[1;32mIn[6], line 2\u001b[0m\n\u001b[0;32m      1\u001b[0m \u001b[38;5;66;03m# Visualization of  Closing Price Over Time with Plotly)\u001b[39;00m\n\u001b[1;32m----> 2\u001b[0m fig \u001b[38;5;241m=\u001b[39m px\u001b[38;5;241m.\u001b[39mline(sp500, x\u001b[38;5;241m=\u001b[39msp500\u001b[38;5;241m.\u001b[39mindex, y\u001b[38;5;241m=\u001b[39m\u001b[38;5;124m\"\u001b[39m\u001b[38;5;124mAdj Close\u001b[39m\u001b[38;5;124m\"\u001b[39m,\n\u001b[0;32m      3\u001b[0m               title\u001b[38;5;241m=\u001b[39m\u001b[38;5;124m\"\u001b[39m\u001b[38;5;124mS&P 500 Adjusted Close Price (1999–2024)\u001b[39m\u001b[38;5;124m\"\u001b[39m,\n\u001b[0;32m      4\u001b[0m               labels\u001b[38;5;241m=\u001b[39m{\u001b[38;5;124m\"\u001b[39m\u001b[38;5;124mAdj Close\u001b[39m\u001b[38;5;124m\"\u001b[39m: \u001b[38;5;124m\"\u001b[39m\u001b[38;5;124mPrice (USD)\u001b[39m\u001b[38;5;124m\"\u001b[39m},\n\u001b[0;32m      5\u001b[0m               color_discrete_sequence\u001b[38;5;241m=\u001b[39m[\u001b[38;5;124m\"\u001b[39m\u001b[38;5;124m#1f77b4\u001b[39m\u001b[38;5;124m\"\u001b[39m])\n\u001b[0;32m      6\u001b[0m fig\u001b[38;5;241m.\u001b[39mupdate_layout(hovermode\u001b[38;5;241m=\u001b[39m\u001b[38;5;124m\"\u001b[39m\u001b[38;5;124mx unified\u001b[39m\u001b[38;5;124m\"\u001b[39m)\n\u001b[0;32m      7\u001b[0m fig\u001b[38;5;241m.\u001b[39mshow()\n",
      "\u001b[1;31mNameError\u001b[0m: name 'px' is not defined"
     ]
    }
   ],
   "source": [
    "# Visualization of  Closing Price Over Time with Plotly)\n",
    "fig = px.line(sp500, x=sp500.index, y=\"Adj Close\",\n",
    "              title=\"S&P 500 Adjusted Close Price (1999–2024)\",\n",
    "              labels={\"Adj Close\": \"Price (USD)\"},\n",
    "              color_discrete_sequence=[\"#1f77b4\"])\n",
    "fig.update_layout(hovermode=\"x unified\")\n",
    "fig.show()"
   ]
  },
  {
   "cell_type": "code",
   "execution_count": null,
   "id": "91d4df0b-9797-44ae-8d43-2ebb5d1d837b",
   "metadata": {},
   "outputs": [],
   "source": [
    "print(\"Insight: Long-term upward trend with visible cycles ; dot-com bubble, 2008 crash, post-2020 surge\")"
   ]
  },
  {
   "cell_type": "code",
   "execution_count": null,
   "id": "458c6a58-4e24-49f1-ab2f-fde116d26d45",
   "metadata": {},
   "outputs": [],
   "source": [
    "#Volume Over Time\n",
    "fig_vol = px.line(sp500, x=sp500.index, y=\"Volume\",\n",
    "                  title=\"S&P 500 Trading Volume Over Time\",\n",
    "                  labels={\"Volume\": \"Volume\"},\n",
    "                  color_discrete_sequence=[\"#d62728\"])\n",
    "fig_vol.show()"
   ]
  },
  {
   "cell_type": "code",
   "execution_count": null,
   "id": "7a9ad0d2-d1d2-40d1-8d07-4789221a0f4f",
   "metadata": {},
   "outputs": [],
   "source": [
    "print(\"Insight: Volume increased significantly after 2010 — more institutional and algorithmic trading\")"
   ]
  },
  {
   "cell_type": "code",
   "execution_count": null,
   "id": "5f92ed57-1874-4250-919a-295d48dd3e6c",
   "metadata": {},
   "outputs": [],
   "source": [
    "print(\"\\n Distribution of Daily Returns\")\n",
    "# Calculation of  daily returns\n",
    "sp500['Return'] = sp500['Adj Close'].pct_change()\n",
    "\n",
    "# Drop NaN\n",
    "returns = sp500['Return'].dropna()\n",
    "\n",
    "# Histogram + KDE\n",
    "plt.figure(figsize=(10, 6))\n",
    "sns.histplot(returns, bins=100, kde=True, color='skyblue')\n",
    "plt.title(\"Distribution of Daily Returns (S&P 500)\")\n",
    "plt.xlabel(\"Daily Return\")\n",
    "plt.ylabel(\"Frequency\")\n",
    "plt.axvline(returns.mean(), color='red', linestyle='--', label=f'Mean: {returns.mean():.4f}')\n",
    "plt.axvline(0, color='black', linestyle='-', alpha=0.5)\n",
    "plt.legend()\n",
    "plt.grid(True, alpha=0.3)\n",
    "plt.show()"
   ]
  },
  {
   "cell_type": "code",
   "execution_count": null,
   "id": "6da88c21-1950-4978-b18e-36641147dc4c",
   "metadata": {},
   "outputs": [],
   "source": [
    "print(\"Insight: Near-normal distribution but with fat tails — extreme events more common than normal theory predicts. \")"
   ]
  },
  {
   "cell_type": "code",
   "execution_count": null,
   "id": "ba4399c0-2f2c-4bed-984b-a7df9daf1a17",
   "metadata": {},
   "outputs": [],
   "source": [
    "print(\"Rolling Statistics: Mean and Volatility\")\n",
    "window = 252  # ~1 year of trading days\n",
    "\n",
    "sp500['Rolling_Mean'] = sp500['Adj Close'].rolling(window).mean()\n",
    "sp500['Rolling_Volatility'] = returns.rolling(window).std() * np.sqrt(252)  # Annualized\n",
    "\n",
    "# Plot\n",
    "fig, ax1 = plt.subplots(figsize=(12, 6))\n",
    "\n",
    "color = 'tab:blue'\n",
    "ax1.set_xlabel('Date')\n",
    "ax1.set_ylabel('Price', color=color)\n",
    "ax1.plot(sp500.index, sp500['Adj Close'], label='Adj Close', color=color, alpha=0.6)\n",
    "ax1.plot(sp500.index, sp500['Rolling_Mean'], label='1Y Rolling Mean', color='blue', linewidth=2)\n",
    "ax1.tick_params(axis='y', labelcolor=color)\n",
    "\n",
    "ax2 = ax1.twinx()\n",
    "color = 'tab:red'\n",
    "ax2.set_ylabel('Volatility (Annualized)', color=color)\n",
    "ax2.plot(sp500.index, sp500['Rolling_Volatility'], color='red', linestyle='--', label='1Y Volatility')\n",
    "ax2.tick_params(axis='y', labelcolor=color)\n",
    "\n",
    "fig.tight_layout()\n",
    "plt.title(\"S&P 500: Price, Trend, and Volatility\")\n",
    "fig.legend(loc=\"upper left\", bbox_to_anchor=(0.1, 0.9))\n",
    "plt.show()"
   ]
  },
  {
   "cell_type": "code",
   "execution_count": null,
   "id": "5ffc3419-d3f4-44bf-b8bf-99f06d143839",
   "metadata": {},
   "outputs": [],
   "source": [
    "print(\"Insight: Volatility spikes during crises (2000, 2008, 2020). Trend-following behavior evident.\")"
   ]
  },
  {
   "cell_type": "code",
   "execution_count": null,
   "id": "c6ac6d77-1cfe-43a8-8c02-628c8aec200b",
   "metadata": {},
   "outputs": [],
   "source": [
    "# Statistical Analysis\n",
    "# Stationarity Test: Augmented Dickey-Fuller (ADF)\n",
    "# stationary time series has constant mean/variance \n",
    "\n",
    "result = adfuller(sp500['Adj Close'].dropna())\n",
    "print('=== ADF Test on Raw Prices ===')\n",
    "print(f'ADF Statistic: {result[0]:.6f}')\n",
    "print(f'p-value: {result[1]:.6f}')\n",
    "print(\"Critical Values:\")\n",
    "for key, value in result[4].items():\n",
    "    print(f'\\t{key}: {value:.3f}')\n",
    "\n",
    "if result[1] <= 0.05:\n",
    "    print(\"✅ Reject Null Hypothesis → Series is stationary\")\n",
    "else:\n",
    "    print(\"❌ Cannot reject Null Hypothesis → Series is non-stationary\")"
   ]
  },
  {
   "cell_type": "code",
   "execution_count": null,
   "id": "7404bc30-3f14-4591-b7ed-1ea21bed46e1",
   "metadata": {},
   "outputs": [],
   "source": [
    "\n",
    "# Autocorrelation & Partial Autocorrelation (ACF/PACF)\n",
    "print(\"\\nAutocorrelation & Partial Autocorrelation (ACF/PACF)\")\n",
    "fig, ax = plt.subplots(2, 2, figsize=(14, 8))\n",
    "\n",
    "# ACF of Returns\n",
    "plot_acf(returns.dropna(), lags=40, ax=ax[0,0], title=\"ACF of Daily Returns\")\n",
    "# PACF of Returns\n",
    "plot_pacf(returns.dropna(), lags=40, ax=ax[0,1], title=\"PACF of Daily Returns\")\n",
    "\n",
    "# ACF of Squared Returns (volatility clustering)\n",
    "plot_acf(returns.dropna()**2, lags=40, ax=ax[1,0], title=\"ACF of Squared Returns\")\n",
    "# PACF of Squared Returns\n",
    "plot_pacf(returns.dropna()**2, lags=40, ax=ax[1,1], title=\"PACF of Squared Returns\")\n",
    "\n",
    "plt.tight_layout()\n",
    "plt.show()"
   ]
  },
  {
   "cell_type": "code",
   "execution_count": null,
   "id": "36d69377-607b-410a-a6a1-d44f17572da5",
   "metadata": {},
   "outputs": [],
   "source": [
    "print(\"Insight: Little autocorrelation in returns (efficient market hypothesis). -- Strong autocorrelation in squared returns → volatility clustering (GARCH effects).\")"
   ]
  },
  {
   "cell_type": "code",
   "execution_count": null,
   "id": "82af1f0f-1b71-437a-b394-457083634b78",
   "metadata": {},
   "outputs": [],
   "source": [
    "print(\"\\nRegression Analysis\")\n",
    "\n",
    "print (\"Feature Engineering\")\n",
    "# Create features\n",
    "sp500['Lag_1'] = sp500['Log_Return'].shift(1)\n",
    "sp500['Lag_2'] = sp500['Log_Return'].shift(2)\n",
    "sp500['Volatility_5D'] = sp500['Log_Return'].rolling(5).std()\n",
    "sp500['MA_10'] = sp500['Adj Close'].rolling(10).mean()\n",
    "sp500['MA_50'] = sp500['Adj Close'].rolling(50).mean()\n",
    "sp500['MA_Ratio'] = sp500['MA_10'] / sp500['MA_50']  # Momentum signal\n",
    "\n",
    "# Target: next day's return\n",
    "sp500['Target'] = sp500['Log_Return'].shift(-1)\n",
    "\n",
    "# Drop NaNs\n",
    "data_for_reg = sp500[['Lag_1', 'Lag_2', 'Volatility_5D', 'MA_Ratio', 'Target']].dropna()"
   ]
  },
  {
   "cell_type": "code",
   "execution_count": null,
   "id": "c7bcef24-bed8-4b84-a981-8fffd120a298",
   "metadata": {},
   "outputs": [],
   "source": [
    "print(\"Train-Test Split\")\n",
    "# Use 80% for training\n",
    "split_index = int(len(data_for_reg) * 0.8)\n",
    "train = data_for_reg.iloc[:split_index]\n",
    "test = data_for_reg.iloc[split_index:]\n",
    "\n",
    "X_train = train[['Lag_1', 'Lag_2', 'Volatility_5D', 'MA_Ratio']]\n",
    "y_train = train['Target']\n",
    "\n",
    "X_test = test[['Lag_1', 'Lag_2', 'Volatility_5D', 'MA_Ratio']]\n",
    "y_test = test['Target']"
   ]
  },
  {
   "cell_type": "code",
   "execution_count": null,
   "id": "0dc0347f-9669-4767-af42-2d9852c640fc",
   "metadata": {},
   "outputs": [],
   "source": [
    "print(\"Fiting a  Linear Regression Model\")\n",
    "model = LinearRegression()\n",
    "model.fit(X_train, y_train)\n",
    "\n",
    "y_pred = model.predict(X_test)\n",
    "\n",
    "# Evaluate\n",
    "rmse = np.sqrt(mean_squared_error(y_test, y_pred))\n",
    "r2 = r2_score(y_test, y_pred)\n",
    "\n",
    "print(f\"✅ Regression Results:\")\n",
    "print(f\"RMSE: {rmse:.6f}\")\n",
    "print(f\"R² Score: {r2:.4f}\")\n",
    "\n",
    "# Feature importance\n",
    "features = X_train.columns\n",
    "coefficients = model.coef_\n",
    "coef_df = pd.DataFrame({'Feature': features, 'Coefficient': coefficients})\n",
    "print(\"\\nFeature Coefficients:\")\n",
    "print(coef_df)"
   ]
  },
  {
   "cell_type": "code",
   "execution_count": null,
   "id": "775182f1-ce80-433b-9bf2-d164a8e384c2",
   "metadata": {},
   "outputs": [],
   "source": [
    "print(\"Insight: R² is likely very low (e.g., < 0.05) — hard to predict stock returns.\n",
    "Lag_1 may have small negative coefficient (mean reversion).\n",
    "MA_Ratio might be positive (momentum effect).\")"
   ]
  },
  {
   "cell_type": "code",
   "execution_count": null,
   "id": "67616b46-067d-4057-b766-17b728c162fd",
   "metadata": {},
   "outputs": [],
   "source": [
    "print(\"Predicted vs Actual Plot\")\n",
    "\n",
    "plt.figure(figsize=(10, 6))\n",
    "plt.scatter(y_test, y_pred, alpha=0.5, color='purple')\n",
    "plt.plot([y_test.min(), y_test.max()], [y_test.min(), y_test.max()], 'r--', lw=2)\n",
    "plt.xlabel(\"Actual Returns\")\n",
    "plt.ylabel(\"Predicted Returns\")\n",
    "plt.title(\"Actual vs Predicted Log Returns (Linear Regression)\")\n",
    "plt.grid(True, alpha=0.3)\n",
    "plt.show()"
   ]
  },
  {
   "cell_type": "code",
   "execution_count": null,
   "id": "b8621fa9-e45b-4228-979a-39aa4017753d",
   "metadata": {},
   "outputs": [],
   "source": [
    "#Key Insights & Summary Report\n",
    "print(\" S&P 500 Time Series Analysis (1999–2024) – Junior Data Scientist Report\")\n",
    "print(\"=\"*70)\n",
    "print(\"1. 📈 Long-Term Trend: Strong upward growth (~7–8% annualized), with major drawdowns in 2000–02, 2008, 2020.\")\n",
    "print(\"2. 📉 Volatility: Non-constant; clusters during crises (volatility clustering).\")\n",
    "print(\"3. 📊 Returns Distribution: Approximately normal but with fat tails — extreme moves more likely.\")\n",
    "print(\"4.  Stationarity: Prices non-stationary; log returns are stationary.\")\n",
    "print(\"5.  Autocorrelation: Returns uncorrelated (efficient market), but volatility is persistent.\")\n",
    "print(\"6.  Seasonality: Weak seasonal pattern — possible Santa Claus rally?\")\n",
    "print(\"7.  Regression: Poor predictive power (low R²), consistent with market efficiency.\")\n",
    "print(\"8.  Takeaway: Buy-and-hold has worked well; timing the market is extremely difficult.\")"
   ]
  },
  {
   "cell_type": "code",
   "execution_count": null,
   "id": "9278542e-e149-41a4-b299-e5fa592f27e6",
   "metadata": {},
   "outputs": [],
   "source": [
    " print(\"Interactive Candlestick Chart for the  Last 2 years for clarity\")\n",
    "recent_data = sp500.tail(500)\n",
    "\n",
    "fig = go.Figure(data=[go.Candlestick(x=recent_data.index,\n",
    "                open=recent_data['Open'],\n",
    "                high=recent_data['High'],\n",
    "                low=recent_data['Low'],\n",
    "                close=recent_data['Close'],\n",
    "                name=\"S&P 500\")])\n",
    "\n",
    "fig.update_layout(title=\"S&P 500 Recent Candlestick Chart\",\n",
    "                  xaxis_title=\"Date\",\n",
    "                  yaxis_title=\"Price (USD)\",\n",
    "                  xaxis_rangeslider_visible=True)\n",
    "\n",
    "fig.show()"
   ]
  }
 ],
 "metadata": {
  "kernelspec": {
   "display_name": "Python [conda env:base] *",
   "language": "python",
   "name": "conda-base-py"
  },
  "language_info": {
   "codemirror_mode": {
    "name": "ipython",
    "version": 3
   },
   "file_extension": ".py",
   "mimetype": "text/x-python",
   "name": "python",
   "nbconvert_exporter": "python",
   "pygments_lexer": "ipython3",
   "version": "3.12.7"
  }
 },
 "nbformat": 4,
 "nbformat_minor": 5
}
